{
 "cells": [
  {
   "cell_type": "code",
   "execution_count": 1,
   "id": "78234d8f",
   "metadata": {},
   "outputs": [],
   "source": [
    "from langchain_community.document_loaders import PyMuPDFLoader\n",
    "from langchain_chroma import Chroma"
   ]
  },
  {
   "cell_type": "code",
   "execution_count": 2,
   "id": "bfdb703a",
   "metadata": {},
   "outputs": [],
   "source": [
    "file_path = \"../data/hotels details.pdf\"\n",
    "loader = PyMuPDFLoader(file_path)"
   ]
  },
  {
   "cell_type": "code",
   "execution_count": 3,
   "id": "8a5ebb6e",
   "metadata": {},
   "outputs": [
    {
     "name": "stdout",
     "output_type": "stream",
     "text": [
      "1. Name: Le Meridien Dahab Resort \n",
      "Location: South Sinai, Dahab, Egypt \n",
      "Type: Resort \n",
      "Description: A beachfront resort with sweeping views of the Gulf of Aqaba and direct access to \n",
      "soft sandy beaches. Features five swimming pools, a man-made lagoon, and a diverse set of \n",
      "restaurants offering local and international cuisine. Elegant rooms have private balconies, \n",
      "flatscreens, and modern decor. Ideal for families, couples, and divers seeking comfort with \n",
      "upscale amenities. \n",
      "Amenities: Swimming Pool, Lagoon, Restaurant, Beach Access, Free WiFi, Dive Center \n",
      "Price per Night: 260 USD \n",
      "Rating: 5 \n",
      "Review Count: 1,120 \n",
      "Contact Email: info@lemeridiendahab.com \n",
      "Phone: +20 69 362 3000 \n",
      "Website: www.lemeridiendahab.com \n",
      " \n",
      "2. Name: Swiss Inn Resort Dahab \n",
      "Location: Dahab, Egypt \n",
      "Type: Resort \n",
      "Description: A stylish beachfront property with tranquil ambiance, two in-house restaurants, a \n",
      "spa offering holistic treatments, and well-maintained swimming pools. The resort is close to \n",
      "local markets and dive shops. Bedrooms are cozy with tasteful furnishings and balconies \n",
      "overlooking the sea or gardens. \n",
      "Amenities: Spa, Pool, Restaurant, Free Breakfast, Free WiFi, Parking \n",
      "Price per Night: 180 USD \n",
      "Rating: 4.5 \n",
      "Review Count: 950 \n",
      "Contact Email: reception@swissinndahab.com \n",
      "Phone: +20 69 362 3050 \n",
      "Website: www.swissinndahab.com \n",
      " \n",
      "3. Name: Red Sea Relax Resort \n",
      "Location: Lighthouse Area, Dahab \n",
      "Type: Resort & Dive Centre \n",
      "Description: A popular choice for divers, this hotel sits right on the beach and includes an in-\n",
      "house dive club. Rooms are functional, with easy access to the Lighthouse Reef for snorkeling. \n",
      "The atmosphere is relaxed and informal, ideal for active guests who prefer comfort over luxury. \n",
      "Amenities: Dive Club, Beach Access, Restaurant, Free Parking, WiFi \n",
      "Price per Night: 120 USD \n",
      "Rating: 4 \n",
      "Review Count: 660 \n",
      "Contact Email: info@redsearelax.com\n"
     ]
    }
   ],
   "source": [
    "docs = loader.load()\n",
    "docs\n",
    "print(docs[0].page_content)"
   ]
  },
  {
   "cell_type": "code",
   "execution_count": 4,
   "id": "ef30e4d5",
   "metadata": {},
   "outputs": [
    {
     "data": {
      "text/plain": [
       "[Document(metadata={'producer': 'Microsoft® Word LTSC', 'creator': 'Microsoft® Word LTSC', 'creationdate': '2025-08-12T02:40:36+03:00', 'source': '../data/hotels details.pdf', 'file_path': '../data/hotels details.pdf', 'total_pages': 4, 'format': 'PDF 1.7', 'title': '', 'author': 'Mohamed Adel', 'subject': '', 'keywords': '', 'moddate': '2025-08-12T02:40:36+03:00', 'trapped': '', 'modDate': \"D:20250812024036+03'00'\", 'creationDate': \"D:20250812024036+03'00'\", 'page': 0}, page_content='1. Name: Le Meridien Dahab Resort \\nLocation: South Sinai, Dahab, Egypt \\nType: Resort \\nDescription: A beachfront resort with sweeping views of the Gulf of Aqaba and direct access to \\nsoft sandy beaches. Features five swimming pools, a man-made lagoon, and a diverse set of \\nrestaurants offering local and international cuisine. Elegant rooms have private balconies, \\nflatscreens, and modern decor. Ideal for families, couples, and divers seeking comfort with \\nupscale amenities. \\nAmenities: Swimming Pool, Lagoon, Restaurant, Beach Access, Free WiFi, Dive Center \\nPrice per Night: 260 USD \\nRating: 5 \\nReview Count: 1,120 \\nContact Email: info@lemeridiendahab.com \\nPhone: +20 69 362 3000 \\nWebsite: www.lemeridiendahab.com \\n \\n2. Name: Swiss Inn Resort Dahab \\nLocation: Dahab, Egypt \\nType: Resort \\nDescription: A stylish beachfront property with tranquil ambiance, two in-house restaurants, a \\nspa offering holistic treatments, and well-maintained swimming pools. The resort is close to \\nlocal markets and dive shops. Bedrooms are cozy with tasteful furnishings and balconies \\noverlooking the sea or gardens. \\nAmenities: Spa, Pool, Restaurant, Free Breakfast, Free WiFi, Parking \\nPrice per Night: 180 USD \\nRating: 4.5 \\nReview Count: 950 \\nContact Email: reception@swissinndahab.com \\nPhone: +20 69 362 3050 \\nWebsite: www.swissinndahab.com \\n \\n3. Name: Red Sea Relax Resort \\nLocation: Lighthouse Area, Dahab \\nType: Resort & Dive Centre \\nDescription: A popular choice for divers, this hotel sits right on the beach and includes an in-\\nhouse dive club. Rooms are functional, with easy access to the Lighthouse Reef for snorkeling. \\nThe atmosphere is relaxed and informal, ideal for active guests who prefer comfort over luxury. \\nAmenities: Dive Club, Beach Access, Restaurant, Free Parking, WiFi \\nPrice per Night: 120 USD \\nRating: 4 \\nReview Count: 660 \\nContact Email: info@redsearelax.com'),\n",
       " Document(metadata={'producer': 'Microsoft® Word LTSC', 'creator': 'Microsoft® Word LTSC', 'creationdate': '2025-08-12T02:40:36+03:00', 'source': '../data/hotels details.pdf', 'file_path': '../data/hotels details.pdf', 'total_pages': 4, 'format': 'PDF 1.7', 'title': '', 'author': 'Mohamed Adel', 'subject': '', 'keywords': '', 'moddate': '2025-08-12T02:40:36+03:00', 'trapped': '', 'modDate': \"D:20250812024036+03'00'\", 'creationDate': \"D:20250812024036+03'00'\", 'page': 1}, page_content='Phone: +20 69 362 3100 \\nWebsite: www.redsearelaxdahab.com \\n \\n4. Name: Jaz Dahabeya \\nLocation: Lagoon Area, Dahab \\nType: Boutique Resort \\nDescription: Nestled in a tranquil lagoon area, Jaz Dahabeya features a relaxed, intimate setting \\nwith a pool, outdoor lounging spaces, and an on-site bar. Rustic chic design with wooden \\naccents, handcrafted furniture, and beachside views makes it perfect for honeymooners and \\nartists seeking serenity. \\nAmenities: Pool, Bar, Lounge Area, Free Parking, WiFi \\nPrice per Night: 110 EUR \\nRating: 4.2 \\nReview Count: 540 \\nContact Email: bookings@jazdahabeya.com \\nPhone: +20 69 362 3150 \\nWebsite: www.jazdahabeya.com \\n \\n5. Name: Ibis Styles Dahab Lagoon \\nLocation: Dahab Lagoon, Egypt \\nType: Mid-Range Hotel \\nDescription: Contemporary hotel offering colorful interiors and a friendly vibe. Guests enjoy a \\nheated outdoor pool, playground, restaurant, and proximity to local attractions. Rooms are clean, \\ncheerful, and well-appointed for families and groups. \\nAmenities: Pool, Playground, Restaurant, Free WiFi, Bar \\nPrice per Night: 60 USD \\nRating: 4 \\nReview Count: 780 \\nContact Email: contact@ibisstylesdahab.com \\nPhone: +20 69 362 3200 \\nWebsite: www.ibisstylesdahab.com \\n \\n6. Name: Sheikh Ali Dahab Resort \\nLocation: Dahab, Egypt \\nType: Resort \\nDescription: A beloved resort known for its relaxed charm, friendly staff, and lush garden \\ncourtyards. Offers simple yet comfortable accommodations, an on-site restaurant, and access to \\nthe beach within walking distance. A favorite for budget-conscious travelers wanting local \\nflavor. \\nAmenities: Garden, Restaurant, Free WiFi, Beach Access, Free Parking'),\n",
       " Document(metadata={'producer': 'Microsoft® Word LTSC', 'creator': 'Microsoft® Word LTSC', 'creationdate': '2025-08-12T02:40:36+03:00', 'source': '../data/hotels details.pdf', 'file_path': '../data/hotels details.pdf', 'total_pages': 4, 'format': 'PDF 1.7', 'title': '', 'author': 'Mohamed Adel', 'subject': '', 'keywords': '', 'moddate': '2025-08-12T02:40:36+03:00', 'trapped': '', 'modDate': \"D:20250812024036+03'00'\", 'creationDate': \"D:20250812024036+03'00'\", 'page': 2}, page_content='Price per Night: 55 USD \\nRating: 4 \\nReview Count: 820 \\nContact Email: info@sheikhaliresort.com \\nPhone: +20 69 362 3250 \\nWebsite: www.sheikhaliresort.com \\n \\n7. Name: Ecotel Dahab Bay View Resort \\nLocation: Qunai Valley, Dahab \\nType: Resort \\nDescription: Quiet resort located in a scenic valley with panoramic sea and pool views. Features \\ninclude a large outdoor pool, terrace, and a relaxed restaurant serving local dishes. Perfect retreat \\nfor guests wanting to unwind within nature while still near Dahab’s center. \\nAmenities: Pool, Terrace, Restaurant, Sea View, WiFi \\nPrice per Night: 75 USD \\nRating: 4.3 \\nReview Count: 400 \\nContact Email: reservations@ecoteldahab.com \\nPhone: +20 69 362 3300 \\nWebsite: www.ecoteldahab.com \\n \\n8. Name: Dahab Paradise Hotel \\nLocation: Dahab, Egypt \\nType: Mid-Range Hotel \\nDescription: Located close to the beach, Dahab Paradise offers straightforward rooms with \\nclean furnishings, a small pool, and a friendly reception desk. Affordable and well-located, ideal \\nfor budget travelers and backpackers. \\nAmenities: Pool, Basic Restaurant, WiFi, Parking \\nPrice per Night: 45 USD \\nRating: 3.8 \\nReview Count: 350 \\nContact Email: info@dahabparadise.com \\nPhone: +20 69 362 3350 \\nWebsite: www.dahabparadise.com \\n \\n9. Name: Tropitel Dahab Oasis \\nLocation: Blue Hole Road, Dahab \\nType: Resort \\nDescription: Set near the Blue Hole site, this resort features a family-friendly pool area, a \\nplayground, and bar for relaxed downtime. Guests can dive or snorkel easily. Rooms are clean'),\n",
       " Document(metadata={'producer': 'Microsoft® Word LTSC', 'creator': 'Microsoft® Word LTSC', 'creationdate': '2025-08-12T02:40:36+03:00', 'source': '../data/hotels details.pdf', 'file_path': '../data/hotels details.pdf', 'total_pages': 4, 'format': 'PDF 1.7', 'title': '', 'author': 'Mohamed Adel', 'subject': '', 'keywords': '', 'moddate': '2025-08-12T02:40:36+03:00', 'trapped': '', 'modDate': \"D:20250812024036+03'00'\", 'creationDate': \"D:20250812024036+03'00'\", 'page': 3}, page_content='and comfortable, with a resort-vibe ambiance. \\nAmenities: Pool, Playground, Bar, Sea View, Dive Proximity \\nPrice per Night: 100 USD \\nRating: 4 \\nReview Count: 500 \\nContact Email: stay@tropiteldahab.com \\nPhone: +20 69 362 3400 \\nWebsite: www.tropiteldahab.com \\n \\n10. Name: Dahab Divers Dubai (Fake Extended Name)** – but rebranded for example \\nLocation: Mashraba, Dahab \\nType: Hostel & Dive Center \\nDescription: A laid-back, affordable hostel attached to a dive center offering budget dorms and \\nprivate rooms. Ideal for solo travelers and divers. Offers gear rental, daily dives, and social \\ncommon spaces. \\nAmenities: Dive Center, Dorms, Private Rooms, Free WiFi \\nPrice per Night: 25 USD \\nRating: 4.1 \\nReview Count: 620 \\nContact Email: info@dahabdivers.com \\nPhone: +20 69 362 3450 \\nWebsite: www.dahabdivers.com')]"
      ]
     },
     "execution_count": 4,
     "metadata": {},
     "output_type": "execute_result"
    }
   ],
   "source": [
    "docs"
   ]
  },
  {
   "cell_type": "code",
   "execution_count": 5,
   "id": "63b205bc",
   "metadata": {},
   "outputs": [
    {
     "name": "stdout",
     "output_type": "stream",
     "text": [
      "{'producer': 'Microsoft® Word LTSC',\n",
      " 'creator': 'Microsoft® Word LTSC',\n",
      " 'creationdate': '2025-08-12T02:40:36+03:00',\n",
      " 'source': '../data/hotels details.pdf',\n",
      " 'file_path': '../data/hotels details.pdf',\n",
      " 'total_pages': 4,\n",
      " 'format': 'PDF 1.7',\n",
      " 'title': '',\n",
      " 'author': 'Mohamed Adel',\n",
      " 'subject': '',\n",
      " 'keywords': '',\n",
      " 'moddate': '2025-08-12T02:40:36+03:00',\n",
      " 'trapped': '',\n",
      " 'modDate': \"D:20250812024036+03'00'\",\n",
      " 'creationDate': \"D:20250812024036+03'00'\",\n",
      " 'page': 0}\n"
     ]
    }
   ],
   "source": [
    "import pprint\n",
    "\n",
    "pprint.pp(docs[0].metadata)"
   ]
  },
  {
   "cell_type": "code",
   "execution_count": 6,
   "id": "5e99ad10",
   "metadata": {},
   "outputs": [
    {
     "data": {
      "text/plain": [
       "4"
      ]
     },
     "execution_count": 6,
     "metadata": {},
     "output_type": "execute_result"
    }
   ],
   "source": [
    "texts = [doc.page_content for doc in docs]\n",
    "len(texts)"
   ]
  },
  {
   "cell_type": "code",
   "execution_count": 28,
   "id": "e312074a",
   "metadata": {},
   "outputs": [
    {
     "name": "stdout",
     "output_type": "stream",
     "text": [
      "[Document(metadata={'start_index': 0}, page_content='1. Name: Le Meridien Dahab Resort \\nLocation: South Sinai, Dahab, Egypt \\nType: Resort \\nDescription: A beachfront resort with sweeping views of the Gulf of Aqaba and direct access to \\nsoft sandy beaches. Features five swimming pools, a man-made lagoon, and a diverse set of \\nrestaurants offering local and international cuisine. Elegant rooms have private balconies, \\nflatscreens, and modern decor. Ideal for families, couples, and divers seeking comfort with \\nupscale amenities. \\nAmenities: Swimming Pool, Lagoon, Restaurant, Beach Access, Free WiFi, Dive Center \\nPrice per Night: 260 USD \\nRating: 5 \\nReview Count: 1,120 \\nContact Email: info@lemeridiendahab.com \\nPhone: +20 69 362 3000 \\nWebsite: www.lemeridiendahab.com \\n \\n2. Name: Swiss Inn Resort Dahab \\nLocation: Dahab, Egypt \\nType: Resort \\nDescription: A stylish beachfront property with tranquil ambiance, two in-house restaurants, a \\nspa offering holistic treatments, and well-maintained swimming pools. The resort is close to \\nlocal markets and dive shops. Bedrooms are cozy with tasteful furnishings and balconies \\noverlooking the sea or gardens. \\nAmenities: Spa, Pool, Restaurant, Free Breakfast, Free WiFi, Parking \\nPrice per Night: 180 USD \\nRating: 4.5 \\nReview Count: 950 \\nContact Email: reception@swissinndahab.com \\nPhone: +20 69 362 3050 \\nWebsite: www.swissinndahab.com \\n \\n3. Name: Red Sea Relax Resort \\nLocation: Lighthouse Area, Dahab \\nType: Resort & Dive Centre'), Document(metadata={'start_index': 983}, page_content='local markets and dive shops. Bedrooms are cozy with tasteful furnishings and balconies \\noverlooking the sea or gardens. \\nAmenities: Spa, Pool, Restaurant, Free Breakfast, Free WiFi, Parking \\nPrice per Night: 180 USD \\nRating: 4.5 \\nReview Count: 950 \\nContact Email: reception@swissinndahab.com \\nPhone: +20 69 362 3050 \\nWebsite: www.swissinndahab.com \\n \\n3. Name: Red Sea Relax Resort \\nLocation: Lighthouse Area, Dahab \\nType: Resort & Dive Centre \\nDescription: A popular choice for divers, this hotel sits right on the beach and includes an in-\\nhouse dive club. Rooms are functional, with easy access to the Lighthouse Reef for snorkeling. \\nThe atmosphere is relaxed and informal, ideal for active guests who prefer comfort over luxury. \\nAmenities: Dive Club, Beach Access, Restaurant, Free Parking, WiFi \\nPrice per Night: 120 USD \\nRating: 4 \\nReview Count: 660 \\nContact Email: info@redsearelax.com'), Document(metadata={'start_index': 0}, page_content='Phone: +20 69 362 3100 \\nWebsite: www.redsearelaxdahab.com \\n \\n4. Name: Jaz Dahabeya \\nLocation: Lagoon Area, Dahab \\nType: Boutique Resort \\nDescription: Nestled in a tranquil lagoon area, Jaz Dahabeya features a relaxed, intimate setting \\nwith a pool, outdoor lounging spaces, and an on-site bar. Rustic chic design with wooden \\naccents, handcrafted furniture, and beachside views makes it perfect for honeymooners and \\nartists seeking serenity. \\nAmenities: Pool, Bar, Lounge Area, Free Parking, WiFi \\nPrice per Night: 110 EUR \\nRating: 4.2 \\nReview Count: 540 \\nContact Email: bookings@jazdahabeya.com \\nPhone: +20 69 362 3150 \\nWebsite: www.jazdahabeya.com \\n \\n5. Name: Ibis Styles Dahab Lagoon \\nLocation: Dahab Lagoon, Egypt \\nType: Mid-Range Hotel \\nDescription: Contemporary hotel offering colorful interiors and a friendly vibe. Guests enjoy a \\nheated outdoor pool, playground, restaurant, and proximity to local attractions. Rooms are clean, \\ncheerful, and well-appointed for families and groups. \\nAmenities: Pool, Playground, Restaurant, Free WiFi, Bar \\nPrice per Night: 60 USD \\nRating: 4 \\nReview Count: 780 \\nContact Email: contact@ibisstylesdahab.com \\nPhone: +20 69 362 3200 \\nWebsite: www.ibisstylesdahab.com \\n \\n6. Name: Sheikh Ali Dahab Resort \\nLocation: Dahab, Egypt \\nType: Resort \\nDescription: A beloved resort known for its relaxed charm, friendly staff, and lush garden \\ncourtyards. Offers simple yet comfortable accommodations, an on-site restaurant, and access to'), Document(metadata={'start_index': 994}, page_content='Amenities: Pool, Playground, Restaurant, Free WiFi, Bar \\nPrice per Night: 60 USD \\nRating: 4 \\nReview Count: 780 \\nContact Email: contact@ibisstylesdahab.com \\nPhone: +20 69 362 3200 \\nWebsite: www.ibisstylesdahab.com \\n \\n6. Name: Sheikh Ali Dahab Resort \\nLocation: Dahab, Egypt \\nType: Resort \\nDescription: A beloved resort known for its relaxed charm, friendly staff, and lush garden \\ncourtyards. Offers simple yet comfortable accommodations, an on-site restaurant, and access to \\nthe beach within walking distance. A favorite for budget-conscious travelers wanting local \\nflavor. \\nAmenities: Garden, Restaurant, Free WiFi, Beach Access, Free Parking'), Document(metadata={'start_index': 0}, page_content='Price per Night: 55 USD \\nRating: 4 \\nReview Count: 820 \\nContact Email: info@sheikhaliresort.com \\nPhone: +20 69 362 3250 \\nWebsite: www.sheikhaliresort.com \\n \\n7. Name: Ecotel Dahab Bay View Resort \\nLocation: Qunai Valley, Dahab \\nType: Resort \\nDescription: Quiet resort located in a scenic valley with panoramic sea and pool views. Features \\ninclude a large outdoor pool, terrace, and a relaxed restaurant serving local dishes. Perfect retreat \\nfor guests wanting to unwind within nature while still near Dahab’s center. \\nAmenities: Pool, Terrace, Restaurant, Sea View, WiFi \\nPrice per Night: 75 USD \\nRating: 4.3 \\nReview Count: 400 \\nContact Email: reservations@ecoteldahab.com \\nPhone: +20 69 362 3300 \\nWebsite: www.ecoteldahab.com \\n \\n8. Name: Dahab Paradise Hotel \\nLocation: Dahab, Egypt \\nType: Mid-Range Hotel \\nDescription: Located close to the beach, Dahab Paradise offers straightforward rooms with \\nclean furnishings, a small pool, and a friendly reception desk. Affordable and well-located, ideal \\nfor budget travelers and backpackers. \\nAmenities: Pool, Basic Restaurant, WiFi, Parking \\nPrice per Night: 45 USD \\nRating: 3.8 \\nReview Count: 350 \\nContact Email: info@dahabparadise.com \\nPhone: +20 69 362 3350 \\nWebsite: www.dahabparadise.com \\n \\n9. Name: Tropitel Dahab Oasis \\nLocation: Blue Hole Road, Dahab \\nType: Resort \\nDescription: Set near the Blue Hole site, this resort features a family-friendly pool area, a'), Document(metadata={'start_index': 999}, page_content='for budget travelers and backpackers. \\nAmenities: Pool, Basic Restaurant, WiFi, Parking \\nPrice per Night: 45 USD \\nRating: 3.8 \\nReview Count: 350 \\nContact Email: info@dahabparadise.com \\nPhone: +20 69 362 3350 \\nWebsite: www.dahabparadise.com \\n \\n9. Name: Tropitel Dahab Oasis \\nLocation: Blue Hole Road, Dahab \\nType: Resort \\nDescription: Set near the Blue Hole site, this resort features a family-friendly pool area, a \\nplayground, and bar for relaxed downtime. Guests can dive or snorkel easily. Rooms are clean'), Document(metadata={'start_index': 0}, page_content='and comfortable, with a resort-vibe ambiance. \\nAmenities: Pool, Playground, Bar, Sea View, Dive Proximity \\nPrice per Night: 100 USD \\nRating: 4 \\nReview Count: 500 \\nContact Email: stay@tropiteldahab.com \\nPhone: +20 69 362 3400 \\nWebsite: www.tropiteldahab.com \\n \\n10. Name: Dahab Divers Dubai (Fake Extended Name)** – but rebranded for example \\nLocation: Mashraba, Dahab \\nType: Hostel & Dive Center \\nDescription: A laid-back, affordable hostel attached to a dive center offering budget dorms and \\nprivate rooms. Ideal for solo travelers and divers. Offers gear rental, daily dives, and social \\ncommon spaces. \\nAmenities: Dive Center, Dorms, Private Rooms, Free WiFi \\nPrice per Night: 25 USD \\nRating: 4.1 \\nReview Count: 620 \\nContact Email: info@dahabdivers.com \\nPhone: +20 69 362 3450 \\nWebsite: www.dahabdivers.com')]\n"
     ]
    }
   ],
   "source": [
    "from langchain_text_splitters import RecursiveCharacterTextSplitter\n",
    "\n",
    "# Load example document\n",
    "# with open(\"state_of_the_union.txt\") as f:\n",
    "#     state_of_the_union = f.read()\n",
    "\n",
    "text_splitter = RecursiveCharacterTextSplitter(\n",
    "    # Set a really small chunk size, just to show.\n",
    "    add_start_index = True,\n",
    "    chunk_size=1500,\n",
    "    chunk_overlap=500,\n",
    "    length_function=len\n",
    ")\n",
    "\n",
    "chunks = text_splitter.create_documents(texts)\n",
    "print(chunks)\n"
   ]
  },
  {
   "cell_type": "code",
   "execution_count": null,
   "id": "7e9d2717",
   "metadata": {},
   "outputs": [],
   "source": [
    "from langchain_google_genai import GoogleGenerativeAIEmbeddings\n",
    "\n",
    "embeddings = GoogleGenerativeAIEmbeddings(model=\"models/embedding-001\", google_api_key=\"Your API Key\")\n"
   ]
  },
  {
   "cell_type": "code",
   "execution_count": 30,
   "id": "0fa1a73d",
   "metadata": {},
   "outputs": [],
   "source": [
    "db = Chroma.from_documents(\n",
    "    documents=chunks,\n",
    "    embedding=embeddings,\n",
    "    persist_directory=\"../data/chroma_langchain_db\",\n",
    "    collection_name=\"my_chunks\"\n",
    ")"
   ]
  },
  {
   "cell_type": "code",
   "execution_count": 31,
   "id": "549ac071",
   "metadata": {},
   "outputs": [
    {
     "name": "stdout",
     "output_type": "stream",
     "text": [
      "0.337 → 2. Name: Swiss Inn Resort Dahab \n",
      "Location: Dahab, Egypt \n",
      "Type: Resort \n",
      "Description: A stylish beachfront property with tranquil ambiance, two in-house restaurants, a \n",
      "spa offering holistic treatments, and well-maintained swimming pools. The resort is close to\n",
      "0.340 → 1. Name: Le Meridien Dahab Resort \n",
      "Location: South Sinai, Dahab, Egypt \n",
      "Type: Resort \n",
      "Description: A beachfront resort with sweeping views of the Gulf of Aqaba and direct access to \n",
      "soft sandy beaches. Features five swimming pools, a man-made lagoon, and a diverse set of\n",
      "0.355 → 6. Name: Sheikh Ali Dahab Resort \n",
      "Location: Dahab, Egypt \n",
      "Type: Resort \n",
      "Description: A beloved resort known for its relaxed charm, friendly staff, and lush garden \n",
      "courtyards. Offers simple yet comfortable accommodations, an on-site restaurant, and access to\n"
     ]
    }
   ],
   "source": [
    "results = db.similarity_search_with_score(\"Le Meridien Dahab Resort\", k=3)\n",
    "for res, score in results:\n",
    "    print(f\"{score:.3f} → {res.page_content}\")\n"
   ]
  },
  {
   "cell_type": "code",
   "execution_count": null,
   "id": "1b50c6cd",
   "metadata": {},
   "outputs": [],
   "source": [
    "from langchain.chains import create_retrieval_chain\n",
    "from langchain.chains.combine_documents import create_stuff_documents_chain\n",
    "from langchain_core.prompts import ChatPromptTemplate\n",
    "from langchain_google_genai import ChatGoogleGenerativeAI\n",
    "\n",
    "retriever = db.as_retriever()\n",
    "llm = ChatGoogleGenerativeAI(\n",
    "    model=\"models/gemini-2.5-flash\",\n",
    "    google_api_key=\"Your API Key\"\n",
    ")\n",
    "\n",
    "\n",
    "system_prompt = (\n",
    "    \"Use the given context to answer the question. \"\n",
    "    \"If you don't know the answer, say you don't know. \"\n",
    "    \"Use three sentence maximum and keep the answer concise. \"\n",
    "    \"Context: {context}\"\n",
    ")\n",
    "prompt = ChatPromptTemplate.from_messages(\n",
    "    [(\"system\", system_prompt), (\"human\", \"{input}\")],\n",
    ")\n",
    "\n",
    "question_answer_chain = create_stuff_documents_chain(llm, prompt)\n",
    "chain = create_retrieval_chain(retriever, question_answer_chain)\n",
    "\n",
    "result = chain.invoke({\"input\": input(\"Enter your Question: \")})"
   ]
  },
  {
   "cell_type": "code",
   "execution_count": 35,
   "id": "900060de",
   "metadata": {},
   "outputs": [
    {
     "name": "stdout",
     "output_type": "stream",
     "text": [
      "Le Meridien Dahab Resort costs 260 USD per night.\n"
     ]
    }
   ],
   "source": [
    "print(result[\"answer\"])"
   ]
  }
 ],
 "metadata": {
  "kernelspec": {
   "display_name": "env_rag_db",
   "language": "python",
   "name": "python3"
  },
  "language_info": {
   "codemirror_mode": {
    "name": "ipython",
    "version": 3
   },
   "file_extension": ".py",
   "mimetype": "text/x-python",
   "name": "python",
   "nbconvert_exporter": "python",
   "pygments_lexer": "ipython3",
   "version": "3.11.9"
  }
 },
 "nbformat": 4,
 "nbformat_minor": 5
}
